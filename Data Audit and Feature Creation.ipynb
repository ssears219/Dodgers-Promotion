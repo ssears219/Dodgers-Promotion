{
 "cells": [
  {
   "cell_type": "markdown",
   "metadata": {},
   "source": [
    "## Load Packages"
   ]
  },
  {
   "cell_type": "code",
   "execution_count": 2,
   "metadata": {},
   "outputs": [],
   "source": [
    "import pandas as pd\n",
    "pd.set_option('display.max_rows', 100)\n",
    "import numpy as np\n",
    "import scipy.stats as ss"
   ]
  },
  {
   "cell_type": "markdown",
   "metadata": {},
   "source": [
    "## Load Data"
   ]
  },
  {
   "cell_type": "code",
   "execution_count": 4,
   "metadata": {},
   "outputs": [],
   "source": [
    "data = pd.read_csv('dodgers.csv')"
   ]
  },
  {
   "cell_type": "markdown",
   "metadata": {},
   "source": [
    "## Data Audit  Part 1\n",
    "\n",
    "**Missing Values**: Since all columns have 81 non-null values and there were 81 records, I can see the dataset is not missing values.  \n",
    "**Strange Min/Max Values**: Summary statistics for numerical variables all seemed reasonable.  \n",
    "**Categorical Variables**: Each column was examined including each unique value for categorical variables. All values were in a standardized format. The numerical columns were all integers. The binary columns were all 'YES' or 'NO'. Months were all capitalized. Values did not contain spelling errors that would cause duplicate unique values.  \n",
    "**Cardinality**: The opponent variable had the most cardinality, but still only 17 unique values.  \n",
    "**Infrequent Categorical Values**: The variable cap and shirt only have 2 and 3 respective 'YES' values indicating promotions for these items are very infrequent. Therefore, it will be difficult to estimate their effect on attendence in modeling.  "
   ]
  },
  {
   "cell_type": "code",
   "execution_count": 5,
   "metadata": {},
   "outputs": [
    {
     "name": "stdout",
     "output_type": "stream",
     "text": [
      "<class 'pandas.core.frame.DataFrame'>\n",
      "RangeIndex: 81 entries, 0 to 80\n",
      "Data columns (total 12 columns):\n",
      " #   Column       Non-Null Count  Dtype \n",
      "---  ------       --------------  ----- \n",
      " 0   month        81 non-null     object\n",
      " 1   day          81 non-null     int64 \n",
      " 2   attend       81 non-null     int64 \n",
      " 3   day_of_week  81 non-null     object\n",
      " 4   opponent     81 non-null     object\n",
      " 5   temp         81 non-null     int64 \n",
      " 6   skies        81 non-null     object\n",
      " 7   day_night    81 non-null     object\n",
      " 8   cap          81 non-null     object\n",
      " 9   shirt        81 non-null     object\n",
      " 10  fireworks    81 non-null     object\n",
      " 11  bobblehead   81 non-null     object\n",
      "dtypes: int64(3), object(9)\n",
      "memory usage: 7.7+ KB\n",
      "None\n",
      "----------------------------------------------------------------------------------------------------\n",
      "             day        attend       temp\n",
      "count  81.000000     81.000000  81.000000\n",
      "mean   16.135802  41040.074074  73.148148\n",
      "std     9.605666   8297.539460   8.317318\n",
      "min     1.000000  24312.000000  54.000000\n",
      "25%     8.000000  34493.000000  67.000000\n",
      "50%    15.000000  40284.000000  73.000000\n",
      "75%    25.000000  46588.000000  79.000000\n",
      "max    31.000000  56000.000000  95.000000\n",
      "----------------------------------------------------------------------------------------------------\n",
      "MAY    18\n",
      "AUG    15\n",
      "JUL    12\n",
      "SEP    12\n",
      "APR    12\n",
      "JUN     9\n",
      "OCT     3\n",
      "Name: month, dtype: int64\n",
      "----------------------------------------------------------------------------------------------------\n",
      "Sunday       13\n",
      "Tuesday      13\n",
      "Friday       13\n",
      "Saturday     13\n",
      "Wednesday    12\n",
      "Monday       12\n",
      "Thursday      5\n",
      "Name: day_of_week, dtype: int64\n",
      "----------------------------------------------------------------------------------------------------\n",
      "Giants       9\n",
      "Padres       9\n",
      "Rockies      9\n",
      "Snakes       9\n",
      "Cardinals    7\n",
      "Brewers      4\n",
      "Mets         4\n",
      "Cubs         3\n",
      "Reds         3\n",
      "Astros       3\n",
      "Nationals    3\n",
      "Braves       3\n",
      "White Sox    3\n",
      "Phillies     3\n",
      "Pirates      3\n",
      "Marlins      3\n",
      "Angels       3\n",
      "Name: opponent, dtype: int64\n",
      "----------------------------------------------------------------------------------------------------\n",
      "Clear     62\n",
      "Cloudy    19\n",
      "Name: skies, dtype: int64\n",
      "----------------------------------------------------------------------------------------------------\n",
      "Night    66\n",
      "Day      15\n",
      "Name: day_night, dtype: int64\n",
      "----------------------------------------------------------------------------------------------------\n",
      "NO     79\n",
      "YES     2\n",
      "Name: cap, dtype: int64\n",
      "----------------------------------------------------------------------------------------------------\n",
      "NO     78\n",
      "YES     3\n",
      "Name: shirt, dtype: int64\n",
      "----------------------------------------------------------------------------------------------------\n",
      "NO     67\n",
      "YES    14\n",
      "Name: fireworks, dtype: int64\n",
      "----------------------------------------------------------------------------------------------------\n",
      "NO     70\n",
      "YES    11\n",
      "Name: bobblehead, dtype: int64\n",
      "----------------------------------------------------------------------------------------------------\n"
     ]
    }
   ],
   "source": [
    "# Index, columns, non-null counts, datatypes, num rows, num columns, memory\n",
    "print(data.info())\n",
    "print(\"-\"*100)\n",
    "\n",
    "# Summary statistics for numerical columns\n",
    "print(data.describe())\n",
    "print(\"-\"*100)\n",
    "\n",
    "# Unique values and counts for month\n",
    "print(data.month.value_counts(dropna=False))\n",
    "print(\"-\"*100)\n",
    "\n",
    "# Unique values and counts for day_of_week\n",
    "print(data.day_of_week.value_counts(dropna=False))\n",
    "print(\"-\"*100)\n",
    "\n",
    "# Unique values and counts for opponent\n",
    "print(data.opponent.value_counts(dropna=False))\n",
    "print(\"-\"*100)\n",
    "\n",
    "# Unique values and counts for skies\n",
    "print(data.skies.value_counts(dropna=False))\n",
    "print(\"-\"*100)\n",
    "\n",
    "# Unique values and counts for day/night game\n",
    "print(data.day_night.value_counts(dropna=False))\n",
    "print(\"-\"*100)\n",
    "\n",
    "# Unique values and counts for cap promotion\n",
    "print(data.cap.value_counts(dropna=False))\n",
    "print(\"-\"*100)\n",
    "\n",
    "# Unique values and counts for shirt promotion\n",
    "print(data.shirt.value_counts(dropna=False))\n",
    "print(\"-\"*100)\n",
    "\n",
    "# Unique values and counts for fireworks promotion\n",
    "print(data.fireworks.value_counts(dropna=False))\n",
    "print(\"-\"*100)\n",
    "\n",
    "# Unique values and counts for bobblehead promotion\n",
    "print(data.bobblehead.value_counts(dropna=False))\n",
    "print(\"-\"*100)"
   ]
  },
  {
   "cell_type": "markdown",
   "metadata": {},
   "source": [
    "## Attendence Exploration"
   ]
  },
  {
   "cell_type": "code",
   "execution_count": 6,
   "metadata": {},
   "outputs": [
    {
     "data": {
      "text/plain": [
       "<matplotlib.axes._subplots.AxesSubplot at 0x1a8bafaa9c8>"
      ]
     },
     "execution_count": 6,
     "metadata": {},
     "output_type": "execute_result"
    },
    {
     "data": {
      "image/png": "[encoded data removed]",
      "text/plain": [
       "<Figure size 432x288 with 1 Axes>"
      ]
     },
     "metadata": {
      "needs_background": "light"
     },
     "output_type": "display_data"
    }
   ],
   "source": [
    "# Boxplot of attendence\n",
    "data.boxplot(column=['attend'])"
   ]
  },
  {
   "cell_type": "markdown",
   "metadata": {},
   "source": [
    "Interpretation: Distribution of attendence seems reasonable and values are consistent as each quartile is pretty even in size. This signifies a normal bell shaped distribution."
   ]
  },
  {
   "cell_type": "code",
   "execution_count": 7,
   "metadata": {},
   "outputs": [
    {
     "data": {
      "text/plain": [
       "<matplotlib.axes._subplots.AxesSubplot at 0x1a8bd4e6388>"
      ]
     },
     "execution_count": 7,
     "metadata": {},
     "output_type": "execute_result"
    },
    {
     "data": {
      "image/png": "[encoded data removed]",
      "text/plain": [
       "<Figure size 432x288 with 1 Axes>"
      ]
     },
     "metadata": {
      "needs_background": "light"
     },
     "output_type": "display_data"
    }
   ],
   "source": [
    "# Distribution of Attendence by index\n",
    "data.reset_index().plot(kind='scatter', x='index', y='attend')"
   ]
  },
  {
   "cell_type": "markdown",
   "metadata": {},
   "source": [
    "Interpretation: No outliers"
   ]
  },
  {
   "cell_type": "code",
   "execution_count": 8,
   "metadata": {},
   "outputs": [
    {
     "data": {
      "text/plain": [
       "<matplotlib.axes._subplots.AxesSubplot at 0x1a8be581688>"
      ]
     },
     "execution_count": 8,
     "metadata": {},
     "output_type": "execute_result"
    },
    {
     "data": {
      "image/png": "[encoded data removed]",
      "text/plain": [
       "<Figure size 432x288 with 1 Axes>"
      ]
     },
     "metadata": {
      "needs_background": "light"
     },
     "output_type": "display_data"
    }
   ],
   "source": [
    "data.plot.scatter(x='day', y='attend')"
   ]
  },
  {
   "cell_type": "markdown",
   "metadata": {},
   "source": [
    "Interpretation: No linear relation between attendence and day of the month"
   ]
  },
  {
   "cell_type": "code",
   "execution_count": 9,
   "metadata": {},
   "outputs": [
    {
     "name": "stderr",
     "output_type": "stream",
     "text": [
      "C:\\Users\\ssear\\AppData\\Roaming\\Python\\Python37\\site-packages\\numpy\\core\\_asarray.py:83: VisibleDeprecationWarning: Creating an ndarray from ragged nested sequences (which is a list-or-tuple of lists-or-tuples-or ndarrays with different lengths or shapes) is deprecated. If you meant to do this, you must specify 'dtype=object' when creating the ndarray\n",
      "  return array(a, dtype, copy=False, order=order)\n"
     ]
    },
    {
     "data": {
      "text/plain": [
       "<matplotlib.axes._subplots.AxesSubplot at 0x1a8be566048>"
      ]
     },
     "execution_count": 9,
     "metadata": {},
     "output_type": "execute_result"
    },
    {
     "data": {
      "image/png": "[encoded data removed]",
      "text/plain": [
       "<Figure size 720x360 with 1 Axes>"
      ]
     },
     "metadata": {
      "needs_background": "light"
     },
     "output_type": "display_data"
    }
   ],
   "source": [
    "data.boxplot(column=['attend'], by='day_of_week', fontsize = 10, rot=45, figsize=(10,5))"
   ]
  },
  {
   "cell_type": "markdown",
   "metadata": {},
   "source": [
    "Interpretation: Tuesday seems to have on average higher attendence. I thought this might be just because there were fewer Tuesday games, but Tuesday has as many or more games than the other days. Monday on the other hand is lower on average."
   ]
  },
  {
   "cell_type": "code",
   "execution_count": 10,
   "metadata": {},
   "outputs": [
    {
     "name": "stderr",
     "output_type": "stream",
     "text": [
      "C:\\Users\\ssear\\AppData\\Roaming\\Python\\Python37\\site-packages\\numpy\\core\\_asarray.py:83: VisibleDeprecationWarning: Creating an ndarray from ragged nested sequences (which is a list-or-tuple of lists-or-tuples-or ndarrays with different lengths or shapes) is deprecated. If you meant to do this, you must specify 'dtype=object' when creating the ndarray\n",
      "  return array(a, dtype, copy=False, order=order)\n"
     ]
    },
    {
     "data": {
      "text/plain": [
       "<matplotlib.axes._subplots.AxesSubplot at 0x1a8be584c08>"
      ]
     },
     "execution_count": 10,
     "metadata": {},
     "output_type": "execute_result"
    },
    {
     "data": {
      "image/png": "[encoded data removed]",
      "text/plain": [
       "<Figure size 720x360 with 1 Axes>"
      ]
     },
     "metadata": {
      "needs_background": "light"
     },
     "output_type": "display_data"
    }
   ],
   "source": [
    "data.boxplot(column=['attend'], by='month', fontsize = 10, rot=45, figsize=(10,5))"
   ]
  },
  {
   "cell_type": "markdown",
   "metadata": {},
   "source": [
    "Interpretation: June definitely has more attendence on average and the third smallest spread."
   ]
  },
  {
   "cell_type": "code",
   "execution_count": 11,
   "metadata": {},
   "outputs": [
    {
     "data": {
      "text/plain": [
       "<matplotlib.axes._subplots.AxesSubplot at 0x1a8be72ae08>"
      ]
     },
     "execution_count": 11,
     "metadata": {},
     "output_type": "execute_result"
    },
    {
     "data": {
      "image/png": "[encoded data removed]",
      "text/plain": [
       "<Figure size 432x288 with 1 Axes>"
      ]
     },
     "metadata": {
      "needs_background": "light"
     },
     "output_type": "display_data"
    }
   ],
   "source": [
    "data.plot.scatter(x='temp', y='attend')"
   ]
  },
  {
   "cell_type": "markdown",
   "metadata": {},
   "source": [
    "Interpretation: No clear relation between attendence and temp. If anything, there is higher attendence in the mid range temperatures from about 65 to 80."
   ]
  },
  {
   "cell_type": "markdown",
   "metadata": {},
   "source": [
    "## Data Audit Part 2: Correlations  \n",
    "\n",
    "**Unusually Strong Correlation between idependent variables and target**: Attendence seems to be most correlated with temperature and day of the week. No independent variables are overwhelmingly predictive however. Further, the relationship between attendence and temp does not appear to be linear as showen in the plot above. Instead it seems to quadratic.  \n",
    "**Collinearity**: The strongest correlations are between day_of_week-fireworks, day_of_week-day_night, and month-opponent. This makes sense as fireworks are typically on Fridays and Saturdays."
   ]
  },
  {
   "cell_type": "code",
   "execution_count": 12,
   "metadata": {},
   "outputs": [],
   "source": [
    "def cramers_v(x, y):\n",
    "    \"\"\"Source: https://towardsdatascience.com/the-search-for-categorical-correlation-a1cf7f1888c9\n",
    "    Takes two arrays and returns value between 0 and 1 where 1 represents full association and 0\n",
    "    represents no association\"\"\"\n",
    "    confusion_matrix = pd.crosstab(x,y)\n",
    "    chi2 = ss.chi2_contingency(confusion_matrix)[0]\n",
    "    n = confusion_matrix.sum().sum()\n",
    "    phi2 = chi2/n\n",
    "    r,k = confusion_matrix.shape\n",
    "    phi2corr = max(0, phi2-((k-1)*(r-1))/(n-1))\n",
    "    rcorr = r-((r-1)**2)/(n-1)\n",
    "    kcorr = k-((k-1)**2)/(n-1)\n",
    "    return np.sqrt(phi2corr/min((kcorr-1),(rcorr-1)))"
   ]
  },
  {
   "cell_type": "code",
   "execution_count": 13,
   "metadata": {},
   "outputs": [
    {
     "data": {
      "text/plain": [
       "0.9999999999999856"
      ]
     },
     "execution_count": 13,
     "metadata": {},
     "output_type": "execute_result"
    }
   ],
   "source": [
    "# Test to make sure this function is working as expected\n",
    "cramers_v(data.attend, data.attend)"
   ]
  },
  {
   "cell_type": "code",
   "execution_count": 14,
   "metadata": {},
   "outputs": [
    {
     "data": {
      "text/html": [
       "<div>\n",
       "<style scoped>\n",
       "    .dataframe tbody tr th:only-of-type {\n",
       "        vertical-align: middle;\n",
       "    }\n",
       "\n",
       "    .dataframe tbody tr th {\n",
       "        vertical-align: top;\n",
       "    }\n",
       "\n",
       "    .dataframe thead th {\n",
       "        text-align: right;\n",
       "    }\n",
       "</style>\n",
       "<table border=\"1\" class=\"dataframe\">\n",
       "  <thead>\n",
       "    <tr style=\"text-align: right;\">\n",
       "      <th></th>\n",
       "      <th>Variable 1</th>\n",
       "      <th>Variable 2</th>\n",
       "      <th>Correlation</th>\n",
       "    </tr>\n",
       "  </thead>\n",
       "  <tbody>\n",
       "    <tr>\n",
       "      <th>36</th>\n",
       "      <td>day_of_week</td>\n",
       "      <td>fireworks</td>\n",
       "      <td>0.925499</td>\n",
       "    </tr>\n",
       "    <tr>\n",
       "      <th>33</th>\n",
       "      <td>day_of_week</td>\n",
       "      <td>day_night</td>\n",
       "      <td>0.710946</td>\n",
       "    </tr>\n",
       "    <tr>\n",
       "      <th>3</th>\n",
       "      <td>month</td>\n",
       "      <td>opponent</td>\n",
       "      <td>0.617294</td>\n",
       "    </tr>\n",
       "    <tr>\n",
       "      <th>23</th>\n",
       "      <td>attend</td>\n",
       "      <td>temp</td>\n",
       "      <td>0.497734</td>\n",
       "    </tr>\n",
       "    <tr>\n",
       "      <th>45</th>\n",
       "      <td>temp</td>\n",
       "      <td>skies</td>\n",
       "      <td>0.467964</td>\n",
       "    </tr>\n",
       "    <tr>\n",
       "      <th>39</th>\n",
       "      <td>opponent</td>\n",
       "      <td>skies</td>\n",
       "      <td>0.437246</td>\n",
       "    </tr>\n",
       "    <tr>\n",
       "      <th>37</th>\n",
       "      <td>day_of_week</td>\n",
       "      <td>bobblehead</td>\n",
       "      <td>0.431402</td>\n",
       "    </tr>\n",
       "    <tr>\n",
       "      <th>41</th>\n",
       "      <td>opponent</td>\n",
       "      <td>cap</td>\n",
       "      <td>0.343409</td>\n",
       "    </tr>\n",
       "    <tr>\n",
       "      <th>4</th>\n",
       "      <td>month</td>\n",
       "      <td>temp</td>\n",
       "      <td>0.338835</td>\n",
       "    </tr>\n",
       "    <tr>\n",
       "      <th>5</th>\n",
       "      <td>month</td>\n",
       "      <td>skies</td>\n",
       "      <td>0.306877</td>\n",
       "    </tr>\n",
       "    <tr>\n",
       "      <th>49</th>\n",
       "      <td>temp</td>\n",
       "      <td>fireworks</td>\n",
       "      <td>0.304964</td>\n",
       "    </tr>\n",
       "    <tr>\n",
       "      <th>21</th>\n",
       "      <td>attend</td>\n",
       "      <td>day_of_week</td>\n",
       "      <td>0.275589</td>\n",
       "    </tr>\n",
       "    <tr>\n",
       "      <th>50</th>\n",
       "      <td>temp</td>\n",
       "      <td>bobblehead</td>\n",
       "      <td>0.224171</td>\n",
       "    </tr>\n",
       "    <tr>\n",
       "      <th>48</th>\n",
       "      <td>temp</td>\n",
       "      <td>shirt</td>\n",
       "      <td>0.189808</td>\n",
       "    </tr>\n",
       "    <tr>\n",
       "      <th>38</th>\n",
       "      <td>opponent</td>\n",
       "      <td>temp</td>\n",
       "      <td>0.179113</td>\n",
       "    </tr>\n",
       "    <tr>\n",
       "      <th>42</th>\n",
       "      <td>opponent</td>\n",
       "      <td>shirt</td>\n",
       "      <td>0.176518</td>\n",
       "    </tr>\n",
       "    <tr>\n",
       "      <th>15</th>\n",
       "      <td>day</td>\n",
       "      <td>skies</td>\n",
       "      <td>0.146011</td>\n",
       "    </tr>\n",
       "    <tr>\n",
       "      <th>60</th>\n",
       "      <td>cap</td>\n",
       "      <td>shirt</td>\n",
       "      <td>0.141218</td>\n",
       "    </tr>\n",
       "    <tr>\n",
       "      <th>58</th>\n",
       "      <td>day_night</td>\n",
       "      <td>fireworks</td>\n",
       "      <td>0.136646</td>\n",
       "    </tr>\n",
       "    <tr>\n",
       "      <th>32</th>\n",
       "      <td>day_of_week</td>\n",
       "      <td>skies</td>\n",
       "      <td>0.124605</td>\n",
       "    </tr>\n",
       "    <tr>\n",
       "      <th>24</th>\n",
       "      <td>attend</td>\n",
       "      <td>skies</td>\n",
       "      <td>0.112509</td>\n",
       "    </tr>\n",
       "    <tr>\n",
       "      <th>27</th>\n",
       "      <td>attend</td>\n",
       "      <td>shirt</td>\n",
       "      <td>0.112509</td>\n",
       "    </tr>\n",
       "    <tr>\n",
       "      <th>28</th>\n",
       "      <td>attend</td>\n",
       "      <td>fireworks</td>\n",
       "      <td>0.112509</td>\n",
       "    </tr>\n",
       "    <tr>\n",
       "      <th>26</th>\n",
       "      <td>attend</td>\n",
       "      <td>cap</td>\n",
       "      <td>0.112509</td>\n",
       "    </tr>\n",
       "    <tr>\n",
       "      <th>51</th>\n",
       "      <td>skies</td>\n",
       "      <td>day_night</td>\n",
       "      <td>0.102733</td>\n",
       "    </tr>\n",
       "    <tr>\n",
       "      <th>59</th>\n",
       "      <td>day_night</td>\n",
       "      <td>bobblehead</td>\n",
       "      <td>0.089066</td>\n",
       "    </tr>\n",
       "    <tr>\n",
       "      <th>65</th>\n",
       "      <td>fireworks</td>\n",
       "      <td>bobblehead</td>\n",
       "      <td>0.073509</td>\n",
       "    </tr>\n",
       "    <tr>\n",
       "      <th>25</th>\n",
       "      <td>attend</td>\n",
       "      <td>day_night</td>\n",
       "      <td>0.000000</td>\n",
       "    </tr>\n",
       "    <tr>\n",
       "      <th>56</th>\n",
       "      <td>day_night</td>\n",
       "      <td>cap</td>\n",
       "      <td>0.000000</td>\n",
       "    </tr>\n",
       "    <tr>\n",
       "      <th>10</th>\n",
       "      <td>month</td>\n",
       "      <td>bobblehead</td>\n",
       "      <td>0.000000</td>\n",
       "    </tr>\n",
       "    <tr>\n",
       "      <th>9</th>\n",
       "      <td>month</td>\n",
       "      <td>fireworks</td>\n",
       "      <td>0.000000</td>\n",
       "    </tr>\n",
       "    <tr>\n",
       "      <th>8</th>\n",
       "      <td>month</td>\n",
       "      <td>shirt</td>\n",
       "      <td>0.000000</td>\n",
       "    </tr>\n",
       "    <tr>\n",
       "      <th>52</th>\n",
       "      <td>skies</td>\n",
       "      <td>cap</td>\n",
       "      <td>0.000000</td>\n",
       "    </tr>\n",
       "    <tr>\n",
       "      <th>53</th>\n",
       "      <td>skies</td>\n",
       "      <td>shirt</td>\n",
       "      <td>0.000000</td>\n",
       "    </tr>\n",
       "    <tr>\n",
       "      <th>54</th>\n",
       "      <td>skies</td>\n",
       "      <td>fireworks</td>\n",
       "      <td>0.000000</td>\n",
       "    </tr>\n",
       "    <tr>\n",
       "      <th>55</th>\n",
       "      <td>skies</td>\n",
       "      <td>bobblehead</td>\n",
       "      <td>0.000000</td>\n",
       "    </tr>\n",
       "    <tr>\n",
       "      <th>57</th>\n",
       "      <td>day_night</td>\n",
       "      <td>shirt</td>\n",
       "      <td>0.000000</td>\n",
       "    </tr>\n",
       "    <tr>\n",
       "      <th>47</th>\n",
       "      <td>temp</td>\n",
       "      <td>cap</td>\n",
       "      <td>0.000000</td>\n",
       "    </tr>\n",
       "    <tr>\n",
       "      <th>7</th>\n",
       "      <td>month</td>\n",
       "      <td>cap</td>\n",
       "      <td>0.000000</td>\n",
       "    </tr>\n",
       "    <tr>\n",
       "      <th>6</th>\n",
       "      <td>month</td>\n",
       "      <td>day_night</td>\n",
       "      <td>0.000000</td>\n",
       "    </tr>\n",
       "    <tr>\n",
       "      <th>2</th>\n",
       "      <td>month</td>\n",
       "      <td>day_of_week</td>\n",
       "      <td>0.000000</td>\n",
       "    </tr>\n",
       "    <tr>\n",
       "      <th>61</th>\n",
       "      <td>cap</td>\n",
       "      <td>fireworks</td>\n",
       "      <td>0.000000</td>\n",
       "    </tr>\n",
       "    <tr>\n",
       "      <th>62</th>\n",
       "      <td>cap</td>\n",
       "      <td>bobblehead</td>\n",
       "      <td>0.000000</td>\n",
       "    </tr>\n",
       "    <tr>\n",
       "      <th>63</th>\n",
       "      <td>shirt</td>\n",
       "      <td>fireworks</td>\n",
       "      <td>0.000000</td>\n",
       "    </tr>\n",
       "    <tr>\n",
       "      <th>64</th>\n",
       "      <td>shirt</td>\n",
       "      <td>bobblehead</td>\n",
       "      <td>0.000000</td>\n",
       "    </tr>\n",
       "    <tr>\n",
       "      <th>11</th>\n",
       "      <td>day</td>\n",
       "      <td>attend</td>\n",
       "      <td>0.000000</td>\n",
       "    </tr>\n",
       "    <tr>\n",
       "      <th>46</th>\n",
       "      <td>temp</td>\n",
       "      <td>day_night</td>\n",
       "      <td>0.000000</td>\n",
       "    </tr>\n",
       "    <tr>\n",
       "      <th>22</th>\n",
       "      <td>attend</td>\n",
       "      <td>opponent</td>\n",
       "      <td>0.000000</td>\n",
       "    </tr>\n",
       "    <tr>\n",
       "      <th>19</th>\n",
       "      <td>day</td>\n",
       "      <td>fireworks</td>\n",
       "      <td>0.000000</td>\n",
       "    </tr>\n",
       "    <tr>\n",
       "      <th>29</th>\n",
       "      <td>attend</td>\n",
       "      <td>bobblehead</td>\n",
       "      <td>0.000000</td>\n",
       "    </tr>\n",
       "    <tr>\n",
       "      <th>30</th>\n",
       "      <td>day_of_week</td>\n",
       "      <td>opponent</td>\n",
       "      <td>0.000000</td>\n",
       "    </tr>\n",
       "    <tr>\n",
       "      <th>31</th>\n",
       "      <td>day_of_week</td>\n",
       "      <td>temp</td>\n",
       "      <td>0.000000</td>\n",
       "    </tr>\n",
       "    <tr>\n",
       "      <th>20</th>\n",
       "      <td>day</td>\n",
       "      <td>bobblehead</td>\n",
       "      <td>0.000000</td>\n",
       "    </tr>\n",
       "    <tr>\n",
       "      <th>1</th>\n",
       "      <td>month</td>\n",
       "      <td>attend</td>\n",
       "      <td>0.000000</td>\n",
       "    </tr>\n",
       "    <tr>\n",
       "      <th>34</th>\n",
       "      <td>day_of_week</td>\n",
       "      <td>cap</td>\n",
       "      <td>0.000000</td>\n",
       "    </tr>\n",
       "    <tr>\n",
       "      <th>35</th>\n",
       "      <td>day_of_week</td>\n",
       "      <td>shirt</td>\n",
       "      <td>0.000000</td>\n",
       "    </tr>\n",
       "    <tr>\n",
       "      <th>18</th>\n",
       "      <td>day</td>\n",
       "      <td>shirt</td>\n",
       "      <td>0.000000</td>\n",
       "    </tr>\n",
       "    <tr>\n",
       "      <th>12</th>\n",
       "      <td>day</td>\n",
       "      <td>day_of_week</td>\n",
       "      <td>0.000000</td>\n",
       "    </tr>\n",
       "    <tr>\n",
       "      <th>17</th>\n",
       "      <td>day</td>\n",
       "      <td>cap</td>\n",
       "      <td>0.000000</td>\n",
       "    </tr>\n",
       "    <tr>\n",
       "      <th>16</th>\n",
       "      <td>day</td>\n",
       "      <td>day_night</td>\n",
       "      <td>0.000000</td>\n",
       "    </tr>\n",
       "    <tr>\n",
       "      <th>40</th>\n",
       "      <td>opponent</td>\n",
       "      <td>day_night</td>\n",
       "      <td>0.000000</td>\n",
       "    </tr>\n",
       "    <tr>\n",
       "      <th>14</th>\n",
       "      <td>day</td>\n",
       "      <td>temp</td>\n",
       "      <td>0.000000</td>\n",
       "    </tr>\n",
       "    <tr>\n",
       "      <th>13</th>\n",
       "      <td>day</td>\n",
       "      <td>opponent</td>\n",
       "      <td>0.000000</td>\n",
       "    </tr>\n",
       "    <tr>\n",
       "      <th>43</th>\n",
       "      <td>opponent</td>\n",
       "      <td>fireworks</td>\n",
       "      <td>0.000000</td>\n",
       "    </tr>\n",
       "    <tr>\n",
       "      <th>44</th>\n",
       "      <td>opponent</td>\n",
       "      <td>bobblehead</td>\n",
       "      <td>0.000000</td>\n",
       "    </tr>\n",
       "    <tr>\n",
       "      <th>0</th>\n",
       "      <td>month</td>\n",
       "      <td>day</td>\n",
       "      <td>0.000000</td>\n",
       "    </tr>\n",
       "  </tbody>\n",
       "</table>\n",
       "</div>"
      ],
      "text/plain": [
       "     Variable 1   Variable 2  Correlation\n",
       "36  day_of_week    fireworks     0.925499\n",
       "33  day_of_week    day_night     0.710946\n",
       "3         month     opponent     0.617294\n",
       "23       attend         temp     0.497734\n",
       "45         temp        skies     0.467964\n",
       "39     opponent        skies     0.437246\n",
       "37  day_of_week   bobblehead     0.431402\n",
       "41     opponent          cap     0.343409\n",
       "4         month         temp     0.338835\n",
       "5         month        skies     0.306877\n",
       "49         temp    fireworks     0.304964\n",
       "21       attend  day_of_week     0.275589\n",
       "50         temp   bobblehead     0.224171\n",
       "48         temp        shirt     0.189808\n",
       "38     opponent         temp     0.179113\n",
       "42     opponent        shirt     0.176518\n",
       "15          day        skies     0.146011\n",
       "60          cap        shirt     0.141218\n",
       "58    day_night    fireworks     0.136646\n",
       "32  day_of_week        skies     0.124605\n",
       "24       attend        skies     0.112509\n",
       "27       attend        shirt     0.112509\n",
       "28       attend    fireworks     0.112509\n",
       "26       attend          cap     0.112509\n",
       "51        skies    day_night     0.102733\n",
       "59    day_night   bobblehead     0.089066\n",
       "65    fireworks   bobblehead     0.073509\n",
       "25       attend    day_night     0.000000\n",
       "56    day_night          cap     0.000000\n",
       "10        month   bobblehead     0.000000\n",
       "9         month    fireworks     0.000000\n",
       "8         month        shirt     0.000000\n",
       "52        skies          cap     0.000000\n",
       "53        skies        shirt     0.000000\n",
       "54        skies    fireworks     0.000000\n",
       "55        skies   bobblehead     0.000000\n",
       "57    day_night        shirt     0.000000\n",
       "47         temp          cap     0.000000\n",
       "7         month          cap     0.000000\n",
       "6         month    day_night     0.000000\n",
       "2         month  day_of_week     0.000000\n",
       "61          cap    fireworks     0.000000\n",
       "62          cap   bobblehead     0.000000\n",
       "63        shirt    fireworks     0.000000\n",
       "64        shirt   bobblehead     0.000000\n",
       "11          day       attend     0.000000\n",
       "46         temp    day_night     0.000000\n",
       "22       attend     opponent     0.000000\n",
       "19          day    fireworks     0.000000\n",
       "29       attend   bobblehead     0.000000\n",
       "30  day_of_week     opponent     0.000000\n",
       "31  day_of_week         temp     0.000000\n",
       "20          day   bobblehead     0.000000\n",
       "1         month       attend     0.000000\n",
       "34  day_of_week          cap     0.000000\n",
       "35  day_of_week        shirt     0.000000\n",
       "18          day        shirt     0.000000\n",
       "12          day  day_of_week     0.000000\n",
       "17          day          cap     0.000000\n",
       "16          day    day_night     0.000000\n",
       "40     opponent    day_night     0.000000\n",
       "14          day         temp     0.000000\n",
       "13          day     opponent     0.000000\n",
       "43     opponent    fireworks     0.000000\n",
       "44     opponent   bobblehead     0.000000\n",
       "0         month          day     0.000000"
      ]
     },
     "execution_count": 14,
     "metadata": {},
     "output_type": "execute_result"
    }
   ],
   "source": [
    "# Examining correlation between all variables\n",
    "\n",
    "correlation_values = []\n",
    "variable_1 = []\n",
    "variable_2 = []\n",
    "\n",
    "for i in range(len(data.columns)):\n",
    "    for j in range(i+1, len(data.columns)):\n",
    "        correlation_values.append(cramers_v(data[data.columns[i]], data[data.columns[j]]))\n",
    "        variable_1.append(data.columns[i])\n",
    "        variable_2.append(data.columns[j])\n",
    "        \n",
    "correlations = pd.DataFrame({'Variable 1':variable_1, 'Variable 2': variable_2, 'Correlation': correlation_values})\n",
    "correlations.sort_values(by=['Correlation'], ascending=False)"
   ]
  },
  {
   "cell_type": "code",
   "execution_count": 15,
   "metadata": {},
   "outputs": [
    {
     "data": {
      "text/html": [
       "<div>\n",
       "<style scoped>\n",
       "    .dataframe tbody tr th:only-of-type {\n",
       "        vertical-align: middle;\n",
       "    }\n",
       "\n",
       "    .dataframe tbody tr th {\n",
       "        vertical-align: top;\n",
       "    }\n",
       "\n",
       "    .dataframe thead th {\n",
       "        text-align: right;\n",
       "    }\n",
       "</style>\n",
       "<table border=\"1\" class=\"dataframe\">\n",
       "  <thead>\n",
       "    <tr style=\"text-align: right;\">\n",
       "      <th></th>\n",
       "      <th>Variable 1</th>\n",
       "      <th>Variable 2</th>\n",
       "      <th>Correlation</th>\n",
       "    </tr>\n",
       "  </thead>\n",
       "  <tbody>\n",
       "    <tr>\n",
       "      <th>2</th>\n",
       "      <td>attend</td>\n",
       "      <td>attend</td>\n",
       "      <td>1.000000</td>\n",
       "    </tr>\n",
       "    <tr>\n",
       "      <th>5</th>\n",
       "      <td>attend</td>\n",
       "      <td>temp</td>\n",
       "      <td>0.497734</td>\n",
       "    </tr>\n",
       "    <tr>\n",
       "      <th>3</th>\n",
       "      <td>attend</td>\n",
       "      <td>day_of_week</td>\n",
       "      <td>0.275589</td>\n",
       "    </tr>\n",
       "    <tr>\n",
       "      <th>6</th>\n",
       "      <td>attend</td>\n",
       "      <td>skies</td>\n",
       "      <td>0.112509</td>\n",
       "    </tr>\n",
       "    <tr>\n",
       "      <th>9</th>\n",
       "      <td>attend</td>\n",
       "      <td>shirt</td>\n",
       "      <td>0.112509</td>\n",
       "    </tr>\n",
       "    <tr>\n",
       "      <th>10</th>\n",
       "      <td>attend</td>\n",
       "      <td>fireworks</td>\n",
       "      <td>0.112509</td>\n",
       "    </tr>\n",
       "    <tr>\n",
       "      <th>8</th>\n",
       "      <td>attend</td>\n",
       "      <td>cap</td>\n",
       "      <td>0.112509</td>\n",
       "    </tr>\n",
       "    <tr>\n",
       "      <th>0</th>\n",
       "      <td>attend</td>\n",
       "      <td>month</td>\n",
       "      <td>0.000000</td>\n",
       "    </tr>\n",
       "    <tr>\n",
       "      <th>1</th>\n",
       "      <td>attend</td>\n",
       "      <td>day</td>\n",
       "      <td>0.000000</td>\n",
       "    </tr>\n",
       "    <tr>\n",
       "      <th>4</th>\n",
       "      <td>attend</td>\n",
       "      <td>opponent</td>\n",
       "      <td>0.000000</td>\n",
       "    </tr>\n",
       "    <tr>\n",
       "      <th>7</th>\n",
       "      <td>attend</td>\n",
       "      <td>day_night</td>\n",
       "      <td>0.000000</td>\n",
       "    </tr>\n",
       "    <tr>\n",
       "      <th>11</th>\n",
       "      <td>attend</td>\n",
       "      <td>bobblehead</td>\n",
       "      <td>0.000000</td>\n",
       "    </tr>\n",
       "  </tbody>\n",
       "</table>\n",
       "</div>"
      ],
      "text/plain": [
       "   Variable 1   Variable 2  Correlation\n",
       "2      attend       attend     1.000000\n",
       "5      attend         temp     0.497734\n",
       "3      attend  day_of_week     0.275589\n",
       "6      attend        skies     0.112509\n",
       "9      attend        shirt     0.112509\n",
       "10     attend    fireworks     0.112509\n",
       "8      attend          cap     0.112509\n",
       "0      attend        month     0.000000\n",
       "1      attend          day     0.000000\n",
       "4      attend     opponent     0.000000\n",
       "7      attend    day_night     0.000000\n",
       "11     attend   bobblehead     0.000000"
      ]
     },
     "execution_count": 15,
     "metadata": {},
     "output_type": "execute_result"
    }
   ],
   "source": [
    "# Examining correlation between target variable (attendence) and independent variables\n",
    "\n",
    "correlation_values = []\n",
    "variable_1 = []\n",
    "variable_2 = []\n",
    "\n",
    "for i in range(len(data.columns)):\n",
    "    correlation_values.append(cramers_v(data.attend, data[data.columns[i]]))\n",
    "    variable_1.append('attend')\n",
    "    variable_2.append(data.columns[i])\n",
    "        \n",
    "correlations = pd.DataFrame({'Variable 1':variable_1, 'Variable 2': variable_2, 'Correlation': correlation_values})\n",
    "correlations.sort_values(by=['Correlation'], ascending=False)"
   ]
  },
  {
   "cell_type": "markdown",
   "metadata": {},
   "source": [
    "# Is attendence higher when there is a promotion?\n",
    "\n",
    "Below I will convert the Yes/No columns to 0 and 1 so I can calculate correlation with attendence since correlation requires numerical variables. Further, I can introduce a new column for number of promotions. Then I could figure out if the presence of any promotion, regardless of which one, has a correlation with attendence."
   ]
  },
  {
   "cell_type": "code",
   "execution_count": 16,
   "metadata": {},
   "outputs": [],
   "source": [
    "data.cap = data.cap.map(dict(YES=1, NO=0))\n",
    "data.shirt = data.shirt.map(dict(YES=1, NO=0))\n",
    "data.fireworks = data.fireworks.map(dict(YES=1, NO=0))\n",
    "data.bobblehead = data.bobblehead.map(dict(YES=1, NO=0))"
   ]
  },
  {
   "cell_type": "code",
   "execution_count": 17,
   "metadata": {},
   "outputs": [
    {
     "data": {
      "text/html": [
       "<div>\n",
       "<style scoped>\n",
       "    .dataframe tbody tr th:only-of-type {\n",
       "        vertical-align: middle;\n",
       "    }\n",
       "\n",
       "    .dataframe tbody tr th {\n",
       "        vertical-align: top;\n",
       "    }\n",
       "\n",
       "    .dataframe thead th {\n",
       "        text-align: right;\n",
       "    }\n",
       "</style>\n",
       "<table border=\"1\" class=\"dataframe\">\n",
       "  <thead>\n",
       "    <tr style=\"text-align: right;\">\n",
       "      <th></th>\n",
       "      <th>month</th>\n",
       "      <th>day</th>\n",
       "      <th>attend</th>\n",
       "      <th>day_of_week</th>\n",
       "      <th>opponent</th>\n",
       "      <th>temp</th>\n",
       "      <th>skies</th>\n",
       "      <th>day_night</th>\n",
       "      <th>cap</th>\n",
       "      <th>shirt</th>\n",
       "      <th>fireworks</th>\n",
       "      <th>bobblehead</th>\n",
       "      <th>promotions</th>\n",
       "    </tr>\n",
       "  </thead>\n",
       "  <tbody>\n",
       "    <tr>\n",
       "      <th>0</th>\n",
       "      <td>APR</td>\n",
       "      <td>10</td>\n",
       "      <td>56000</td>\n",
       "      <td>Tuesday</td>\n",
       "      <td>Pirates</td>\n",
       "      <td>67</td>\n",
       "      <td>Clear</td>\n",
       "      <td>Day</td>\n",
       "      <td>0</td>\n",
       "      <td>0</td>\n",
       "      <td>0</td>\n",
       "      <td>0</td>\n",
       "      <td>0</td>\n",
       "    </tr>\n",
       "    <tr>\n",
       "      <th>1</th>\n",
       "      <td>APR</td>\n",
       "      <td>11</td>\n",
       "      <td>29729</td>\n",
       "      <td>Wednesday</td>\n",
       "      <td>Pirates</td>\n",
       "      <td>58</td>\n",
       "      <td>Cloudy</td>\n",
       "      <td>Night</td>\n",
       "      <td>0</td>\n",
       "      <td>0</td>\n",
       "      <td>0</td>\n",
       "      <td>0</td>\n",
       "      <td>0</td>\n",
       "    </tr>\n",
       "    <tr>\n",
       "      <th>2</th>\n",
       "      <td>APR</td>\n",
       "      <td>12</td>\n",
       "      <td>28328</td>\n",
       "      <td>Thursday</td>\n",
       "      <td>Pirates</td>\n",
       "      <td>57</td>\n",
       "      <td>Cloudy</td>\n",
       "      <td>Night</td>\n",
       "      <td>0</td>\n",
       "      <td>0</td>\n",
       "      <td>0</td>\n",
       "      <td>0</td>\n",
       "      <td>0</td>\n",
       "    </tr>\n",
       "    <tr>\n",
       "      <th>3</th>\n",
       "      <td>APR</td>\n",
       "      <td>13</td>\n",
       "      <td>31601</td>\n",
       "      <td>Friday</td>\n",
       "      <td>Padres</td>\n",
       "      <td>54</td>\n",
       "      <td>Cloudy</td>\n",
       "      <td>Night</td>\n",
       "      <td>0</td>\n",
       "      <td>0</td>\n",
       "      <td>1</td>\n",
       "      <td>0</td>\n",
       "      <td>1</td>\n",
       "    </tr>\n",
       "    <tr>\n",
       "      <th>4</th>\n",
       "      <td>APR</td>\n",
       "      <td>14</td>\n",
       "      <td>46549</td>\n",
       "      <td>Saturday</td>\n",
       "      <td>Padres</td>\n",
       "      <td>57</td>\n",
       "      <td>Cloudy</td>\n",
       "      <td>Night</td>\n",
       "      <td>0</td>\n",
       "      <td>0</td>\n",
       "      <td>0</td>\n",
       "      <td>0</td>\n",
       "      <td>0</td>\n",
       "    </tr>\n",
       "  </tbody>\n",
       "</table>\n",
       "</div>"
      ],
      "text/plain": [
       "  month  day  attend day_of_week opponent  temp   skies day_night  cap  shirt  \\\n",
       "0   APR   10   56000     Tuesday  Pirates    67  Clear        Day    0      0   \n",
       "1   APR   11   29729   Wednesday  Pirates    58  Cloudy     Night    0      0   \n",
       "2   APR   12   28328    Thursday  Pirates    57  Cloudy     Night    0      0   \n",
       "3   APR   13   31601      Friday   Padres    54  Cloudy     Night    0      0   \n",
       "4   APR   14   46549    Saturday   Padres    57  Cloudy     Night    0      0   \n",
       "\n",
       "   fireworks  bobblehead  promotions  \n",
       "0          0           0           0  \n",
       "1          0           0           0  \n",
       "2          0           0           0  \n",
       "3          1           0           1  \n",
       "4          0           0           0  "
      ]
     },
     "execution_count": 17,
     "metadata": {},
     "output_type": "execute_result"
    }
   ],
   "source": [
    "data['promotions'] = data.cap + data.shirt + data.fireworks + data.bobblehead\n",
    "data.head()"
   ]
  },
  {
   "cell_type": "code",
   "execution_count": 18,
   "metadata": {},
   "outputs": [
    {
     "name": "stdout",
     "output_type": "stream",
     "text": [
      "0    51\n",
      "1    30\n",
      "Name: promotions, dtype: int64\n"
     ]
    }
   ],
   "source": [
    "# Unique values and counts for promotions\n",
    "print(data.promotions.value_counts(dropna=False))"
   ]
  },
  {
   "cell_type": "markdown",
   "metadata": {},
   "source": [
    "Interpretation: 30 of the 81 games had some sort of promotion. This is the number of data points we have to work with to determine if the promotions had an effect."
   ]
  },
  {
   "cell_type": "code",
   "execution_count": 19,
   "metadata": {},
   "outputs": [
    {
     "data": {
      "text/html": [
       "<div>\n",
       "<style scoped>\n",
       "    .dataframe tbody tr th:only-of-type {\n",
       "        vertical-align: middle;\n",
       "    }\n",
       "\n",
       "    .dataframe tbody tr th {\n",
       "        vertical-align: top;\n",
       "    }\n",
       "\n",
       "    .dataframe thead th {\n",
       "        text-align: right;\n",
       "    }\n",
       "</style>\n",
       "<table border=\"1\" class=\"dataframe\">\n",
       "  <thead>\n",
       "    <tr style=\"text-align: right;\">\n",
       "      <th></th>\n",
       "      <th>day</th>\n",
       "      <th>attend</th>\n",
       "      <th>temp</th>\n",
       "      <th>cap</th>\n",
       "      <th>shirt</th>\n",
       "      <th>fireworks</th>\n",
       "      <th>bobblehead</th>\n",
       "      <th>promotions</th>\n",
       "    </tr>\n",
       "  </thead>\n",
       "  <tbody>\n",
       "    <tr>\n",
       "      <th>day</th>\n",
       "      <td>1.000000</td>\n",
       "      <td>0.027093</td>\n",
       "      <td>-0.127612</td>\n",
       "      <td>-0.202274</td>\n",
       "      <td>-0.030182</td>\n",
       "      <td>0.099528</td>\n",
       "      <td>0.145363</td>\n",
       "      <td>0.104247</td>\n",
       "    </tr>\n",
       "    <tr>\n",
       "      <th>attend</th>\n",
       "      <td>0.027093</td>\n",
       "      <td>1.000000</td>\n",
       "      <td>0.098951</td>\n",
       "      <td>-0.055002</td>\n",
       "      <td>0.133269</td>\n",
       "      <td>0.002094</td>\n",
       "      <td>0.581895</td>\n",
       "      <td>0.448887</td>\n",
       "    </tr>\n",
       "    <tr>\n",
       "      <th>temp</th>\n",
       "      <td>-0.127612</td>\n",
       "      <td>0.098951</td>\n",
       "      <td>1.000000</td>\n",
       "      <td>0.064521</td>\n",
       "      <td>0.004394</td>\n",
       "      <td>-0.189899</td>\n",
       "      <td>0.049573</td>\n",
       "      <td>-0.091069</td>\n",
       "    </tr>\n",
       "    <tr>\n",
       "      <th>cap</th>\n",
       "      <td>-0.202274</td>\n",
       "      <td>-0.055002</td>\n",
       "      <td>0.064521</td>\n",
       "      <td>1.000000</td>\n",
       "      <td>-0.031204</td>\n",
       "      <td>-0.072732</td>\n",
       "      <td>-0.063074</td>\n",
       "      <td>0.207456</td>\n",
       "    </tr>\n",
       "    <tr>\n",
       "      <th>shirt</th>\n",
       "      <td>-0.030182</td>\n",
       "      <td>0.133269</td>\n",
       "      <td>0.004394</td>\n",
       "      <td>-0.031204</td>\n",
       "      <td>1.000000</td>\n",
       "      <td>-0.089648</td>\n",
       "      <td>-0.077743</td>\n",
       "      <td>0.255704</td>\n",
       "    </tr>\n",
       "    <tr>\n",
       "      <th>fireworks</th>\n",
       "      <td>0.099528</td>\n",
       "      <td>0.002094</td>\n",
       "      <td>-0.189899</td>\n",
       "      <td>-0.072732</td>\n",
       "      <td>-0.089648</td>\n",
       "      <td>1.000000</td>\n",
       "      <td>-0.181207</td>\n",
       "      <td>0.596007</td>\n",
       "    </tr>\n",
       "    <tr>\n",
       "      <th>bobblehead</th>\n",
       "      <td>0.145363</td>\n",
       "      <td>0.581895</td>\n",
       "      <td>0.049573</td>\n",
       "      <td>-0.063074</td>\n",
       "      <td>-0.077743</td>\n",
       "      <td>-0.181207</td>\n",
       "      <td>1.000000</td>\n",
       "      <td>0.516859</td>\n",
       "    </tr>\n",
       "    <tr>\n",
       "      <th>promotions</th>\n",
       "      <td>0.104247</td>\n",
       "      <td>0.448887</td>\n",
       "      <td>-0.091069</td>\n",
       "      <td>0.207456</td>\n",
       "      <td>0.255704</td>\n",
       "      <td>0.596007</td>\n",
       "      <td>0.516859</td>\n",
       "      <td>1.000000</td>\n",
       "    </tr>\n",
       "  </tbody>\n",
       "</table>\n",
       "</div>"
      ],
      "text/plain": [
       "                 day    attend      temp       cap     shirt  fireworks  \\\n",
       "day         1.000000  0.027093 -0.127612 -0.202274 -0.030182   0.099528   \n",
       "attend      0.027093  1.000000  0.098951 -0.055002  0.133269   0.002094   \n",
       "temp       -0.127612  0.098951  1.000000  0.064521  0.004394  -0.189899   \n",
       "cap        -0.202274 -0.055002  0.064521  1.000000 -0.031204  -0.072732   \n",
       "shirt      -0.030182  0.133269  0.004394 -0.031204  1.000000  -0.089648   \n",
       "fireworks   0.099528  0.002094 -0.189899 -0.072732 -0.089648   1.000000   \n",
       "bobblehead  0.145363  0.581895  0.049573 -0.063074 -0.077743  -0.181207   \n",
       "promotions  0.104247  0.448887 -0.091069  0.207456  0.255704   0.596007   \n",
       "\n",
       "            bobblehead  promotions  \n",
       "day           0.145363    0.104247  \n",
       "attend        0.581895    0.448887  \n",
       "temp          0.049573   -0.091069  \n",
       "cap          -0.063074    0.207456  \n",
       "shirt        -0.077743    0.255704  \n",
       "fireworks    -0.181207    0.596007  \n",
       "bobblehead    1.000000    0.516859  \n",
       "promotions    0.516859    1.000000  "
      ]
     },
     "execution_count": 19,
     "metadata": {},
     "output_type": "execute_result"
    }
   ],
   "source": [
    "data.corr()"
   ]
  },
  {
   "cell_type": "markdown",
   "metadata": {},
   "source": [
    "Interpretation: Using this correlation matrix, we see slightly different results than cramers_v above. Using a binary representation of the promotions, we can see that there is slight correlation between promotions and the attendence. The highest correlation for our target variable, attend, the bobblehead promotion with 0.58 signifying moderate correlation. Overall, however, we can say that there does tend to be higher attendence when there is a promotion, particularly when there are bobblehead promotions. This is illustrated in the box plots below."
   ]
  },
  {
   "cell_type": "code",
   "execution_count": 20,
   "metadata": {},
   "outputs": [
    {
     "name": "stderr",
     "output_type": "stream",
     "text": [
      "C:\\Users\\ssear\\AppData\\Roaming\\Python\\Python37\\site-packages\\numpy\\core\\_asarray.py:83: VisibleDeprecationWarning: Creating an ndarray from ragged nested sequences (which is a list-or-tuple of lists-or-tuples-or ndarrays with different lengths or shapes) is deprecated. If you meant to do this, you must specify 'dtype=object' when creating the ndarray\n",
      "  return array(a, dtype, copy=False, order=order)\n"
     ]
    },
    {
     "data": {
      "text/plain": [
       "<matplotlib.axes._subplots.AxesSubplot at 0x1a8be85fd88>"
      ]
     },
     "execution_count": 20,
     "metadata": {},
     "output_type": "execute_result"
    },
    {
     "data": {
      "image/png": "[encoded data removed]",
      "text/plain": [
       "<Figure size 432x288 with 1 Axes>"
      ]
     },
     "metadata": {
      "needs_background": "light"
     },
     "output_type": "display_data"
    }
   ],
   "source": [
    "data.boxplot(column=['attend'], by='promotions')"
   ]
  },
  {
   "cell_type": "code",
   "execution_count": 21,
   "metadata": {},
   "outputs": [
    {
     "name": "stderr",
     "output_type": "stream",
     "text": [
      "C:\\Users\\ssear\\AppData\\Roaming\\Python\\Python37\\site-packages\\numpy\\core\\_asarray.py:83: VisibleDeprecationWarning: Creating an ndarray from ragged nested sequences (which is a list-or-tuple of lists-or-tuples-or ndarrays with different lengths or shapes) is deprecated. If you meant to do this, you must specify 'dtype=object' when creating the ndarray\n",
      "  return array(a, dtype, copy=False, order=order)\n"
     ]
    },
    {
     "data": {
      "text/plain": [
       "<matplotlib.axes._subplots.AxesSubplot at 0x1a8be581148>"
      ]
     },
     "execution_count": 21,
     "metadata": {},
     "output_type": "execute_result"
    },
    {
     "data": {
      "image/png": "[encoded data removed]",
      "text/plain": [
       "<Figure size 432x288 with 1 Axes>"
      ]
     },
     "metadata": {
      "needs_background": "light"
     },
     "output_type": "display_data"
    }
   ],
   "source": [
    "data.boxplot(column=['attend'], by='bobblehead')"
   ]
  },
  {
   "cell_type": "code",
   "execution_count": 22,
   "metadata": {},
   "outputs": [
    {
     "name": "stderr",
     "output_type": "stream",
     "text": [
      "C:\\Users\\ssear\\AppData\\Roaming\\Python\\Python37\\site-packages\\numpy\\core\\_asarray.py:83: VisibleDeprecationWarning: Creating an ndarray from ragged nested sequences (which is a list-or-tuple of lists-or-tuples-or ndarrays with different lengths or shapes) is deprecated. If you meant to do this, you must specify 'dtype=object' when creating the ndarray\n",
      "  return array(a, dtype, copy=False, order=order)\n"
     ]
    },
    {
     "data": {
      "text/plain": [
       "<matplotlib.axes._subplots.AxesSubplot at 0x1a8be951408>"
      ]
     },
     "execution_count": 22,
     "metadata": {},
     "output_type": "execute_result"
    },
    {
     "data": {
      "image/png": "[encoded data removed]",
      "text/plain": [
       "<Figure size 1080x360 with 1 Axes>"
      ]
     },
     "metadata": {
      "needs_background": "light"
     },
     "output_type": "display_data"
    }
   ],
   "source": [
    "data.boxplot(column=['attend'], by=['bobblehead','day_of_week'], fontsize = 10, rot=45, figsize=(15,5))"
   ]
  },
  {
   "cell_type": "code",
   "execution_count": 23,
   "metadata": {},
   "outputs": [
    {
     "name": "stdout",
     "output_type": "stream",
     "text": [
      "Tuesday     6\n",
      "Thursday    2\n",
      "Saturday    2\n",
      "Sunday      1\n",
      "Name: day_of_week, dtype: int64\n"
     ]
    }
   ],
   "source": [
    "# Which day of the week was there a bobblehead promotion\n",
    "print(data[data.bobblehead==1].day_of_week.value_counts(dropna=False))"
   ]
  },
  {
   "cell_type": "markdown",
   "metadata": {},
   "source": [
    "Interpretation: We can see from the box plots that each day of the week had higher attendence on average when there was a bobblehead promotion compared to when there wasn't. However, only Tuesday had more than 2 bobblehead promotion records, so it's hard to say for sure that the this is what we would see with a larger data set."
   ]
  },
  {
   "cell_type": "code",
   "execution_count": 24,
   "metadata": {},
   "outputs": [
    {
     "name": "stderr",
     "output_type": "stream",
     "text": [
      "C:\\Users\\ssear\\AppData\\Roaming\\Python\\Python37\\site-packages\\numpy\\core\\_asarray.py:83: VisibleDeprecationWarning: Creating an ndarray from ragged nested sequences (which is a list-or-tuple of lists-or-tuples-or ndarrays with different lengths or shapes) is deprecated. If you meant to do this, you must specify 'dtype=object' when creating the ndarray\n",
      "  return array(a, dtype, copy=False, order=order)\n"
     ]
    },
    {
     "data": {
      "text/plain": [
       "<matplotlib.axes._subplots.AxesSubplot at 0x1a8be55e348>"
      ]
     },
     "execution_count": 24,
     "metadata": {},
     "output_type": "execute_result"
    },
    {
     "data": {
      "image/png": "[encoded data removed]",
      "text/plain": [
       "<Figure size 1080x360 with 1 Axes>"
      ]
     },
     "metadata": {
      "needs_background": "light"
     },
     "output_type": "display_data"
    }
   ],
   "source": [
    "data.boxplot(column=['attend'], by=['promotions','day_of_week'], fontsize = 10, rot=45, figsize=(15,5))"
   ]
  },
  {
   "cell_type": "code",
   "execution_count": 25,
   "metadata": {},
   "outputs": [
    {
     "name": "stdout",
     "output_type": "stream",
     "text": [
      "Friday       13\n",
      "Tuesday       8\n",
      "Sunday        3\n",
      "Saturday      2\n",
      "Thursday      2\n",
      "Wednesday     1\n",
      "Monday        1\n",
      "Name: day_of_week, dtype: int64\n"
     ]
    }
   ],
   "source": [
    "# Which day of the week was there a promotion\n",
    "print(data[data.promotions==1].day_of_week.value_counts(dropna=False))"
   ]
  },
  {
   "cell_type": "markdown",
   "metadata": {},
   "source": [
    "Comparing simply whether there was a promotion on a certain day of the week or not, we see a trend similar to that of bobbleheads. Looking at Tuesday specifically, the average attendance when there was a promotion is within the IQR of the attendence without a promotion. So that tells us that the increase in attendence with the promotion isn't really an unusually high attendence relative to without a promotion."
   ]
  },
  {
   "cell_type": "code",
   "execution_count": 26,
   "metadata": {},
   "outputs": [
    {
     "data": {
      "text/plain": [
       "7665.288235294116"
      ]
     },
     "execution_count": 26,
     "metadata": {},
     "output_type": "execute_result"
    }
   ],
   "source": [
    "data[data.promotions == 1].attend.mean() - data[data.promotions == 0].attend.mean()"
   ]
  },
  {
   "cell_type": "code",
   "execution_count": 27,
   "metadata": {},
   "outputs": [
    {
     "data": {
      "text/plain": [
       "14006.707792207788"
      ]
     },
     "execution_count": 27,
     "metadata": {},
     "output_type": "execute_result"
    }
   ],
   "source": [
    "data[data.bobblehead == 1].attend.mean() - data[data.bobblehead == 0].attend.mean()"
   ]
  },
  {
   "cell_type": "code",
   "execution_count": 28,
   "metadata": {},
   "outputs": [
    {
     "name": "stdout",
     "output_type": "stream",
     "text": [
      "Tuesday 6701.156695156693\n",
      "Wednesday -3454.9074074074088\n",
      "Thursday -632.6740740740715\n",
      "Friday -923.150997150995\n",
      "Saturday 2032.849002849005\n",
      "Sunday 1228.772079772083\n",
      "Monday -6074.407407407409\n"
     ]
    }
   ],
   "source": [
    "days = data.day_of_week.unique()\n",
    "for day in days:\n",
    "    print(day, data[data.day_of_week == day].attend.mean()-data.attend.mean())\n"
   ]
  },
  {
   "cell_type": "markdown",
   "metadata": {},
   "source": [
    "Interpretation: These calculations say that in this dataset, the attendence was on average 7665 higher when there was a promotion, 14006 higher when that promotion was a bobblehead, and 6701 higher on Tuesdays on average."
   ]
  },
  {
   "cell_type": "code",
   "execution_count": 31,
   "metadata": {},
   "outputs": [
    {
     "name": "stdout",
     "output_type": "stream",
     "text": [
      "Tuesday - 3224.699999999997\n",
      "Wednesday - 17438.0\n",
      "Thursday - 19010.166666666664\n",
      "Friday - nan\n",
      "Saturday - 13065.090909090912\n",
      "Sunday - 8580.199999999997\n",
      "Monday - 17010.90909090909\n"
     ]
    }
   ],
   "source": [
    "# Difference between average attendence for day of week when there was a promotion \n",
    "# and average attendence for day of week when there wasn't a promotion\n",
    "\n",
    "for day in days:\n",
    "    difference = data[(data.promotions == 1) & (data.day_of_week==day)].attend.mean()\\\n",
    "                - data[(data.promotions == 0)  & (data.day_of_week==day)].attend.mean()\n",
    "    print('{} - {}'.format(day, difference))"
   ]
  },
  {
   "cell_type": "code",
   "execution_count": 32,
   "metadata": {},
   "outputs": [
    {
     "name": "stdout",
     "output_type": "stream",
     "text": [
      "Tuesday - 9564.785714285717\n",
      "Wednesday - nan\n",
      "Thursday - 19010.166666666664\n",
      "Friday - nan\n",
      "Saturday - 13065.090909090912\n",
      "Sunday - 14181.0\n",
      "Monday - nan\n"
     ]
    }
   ],
   "source": [
    "# Difference between average attendence for day of week when there was a bobblehead promotion \n",
    "# and average attendence for day of week when there wasn't a bobblehead promotion\n",
    "\n",
    "for day in days:\n",
    "    difference = data[(data.bobblehead == 1) & (data.day_of_week==day)].attend.mean()\\\n",
    "                - data[(data.bobblehead == 0)  & (data.day_of_week==day)].attend.mean()\n",
    "    print('{} - {}'.format(day, difference))"
   ]
  },
  {
   "cell_type": "markdown",
   "metadata": {},
   "source": [
    "Interpretation: This shows that the difference the largest effect for both the bobblehead and having a promotion in general comes on Thursday, Saturday, and Sunday. On average, attendence is 19,010 higher on Thursday when there is a bobblehead promotion and 14,181 higher on Sunday when there is a bobblehead promotion. The only issue here is still the small number of records that have this criteria as shown below."
   ]
  },
  {
   "cell_type": "markdown",
   "metadata": {},
   "source": [
    "# Feature Creation  \n",
    "\n",
    "To this point, I have determined that promotions, bobblehead promotions particularly, are associated with differing levels of increased attendence depending on the day of the week. Therefore, I am estimating that promotions, bobblehead, and day of the week will be my predictor variables in my model. The final step for feature creation is to create dummy variables for day of the week."
   ]
  },
  {
   "cell_type": "code",
   "execution_count": 33,
   "metadata": {},
   "outputs": [],
   "source": [
    "data = pd.concat([data,pd.get_dummies(data['day_of_week'])],axis=1)"
   ]
  },
  {
   "cell_type": "code",
   "execution_count": 35,
   "metadata": {},
   "outputs": [
    {
     "data": {
      "text/html": [
       "<div>\n",
       "<style scoped>\n",
       "    .dataframe tbody tr th:only-of-type {\n",
       "        vertical-align: middle;\n",
       "    }\n",
       "\n",
       "    .dataframe tbody tr th {\n",
       "        vertical-align: top;\n",
       "    }\n",
       "\n",
       "    .dataframe thead th {\n",
       "        text-align: right;\n",
       "    }\n",
       "</style>\n",
       "<table border=\"1\" class=\"dataframe\">\n",
       "  <thead>\n",
       "    <tr style=\"text-align: right;\">\n",
       "      <th></th>\n",
       "      <th>day</th>\n",
       "      <th>attend</th>\n",
       "      <th>temp</th>\n",
       "      <th>cap</th>\n",
       "      <th>shirt</th>\n",
       "      <th>fireworks</th>\n",
       "      <th>bobblehead</th>\n",
       "      <th>promotions</th>\n",
       "      <th>Friday</th>\n",
       "      <th>Monday</th>\n",
       "      <th>Saturday</th>\n",
       "      <th>Sunday</th>\n",
       "      <th>Thursday</th>\n",
       "      <th>Tuesday</th>\n",
       "      <th>Wednesday</th>\n",
       "    </tr>\n",
       "  </thead>\n",
       "  <tbody>\n",
       "    <tr>\n",
       "      <th>day</th>\n",
       "      <td>1.000000</td>\n",
       "      <td>0.027093</td>\n",
       "      <td>-0.127612</td>\n",
       "      <td>-0.202274</td>\n",
       "      <td>-0.030182</td>\n",
       "      <td>0.099528</td>\n",
       "      <td>0.145363</td>\n",
       "      <td>0.104247</td>\n",
       "      <td>0.145280</td>\n",
       "      <td>-0.118786</td>\n",
       "      <td>0.081861</td>\n",
       "      <td>0.021966</td>\n",
       "      <td>0.179059</td>\n",
       "      <td>-0.094301</td>\n",
       "      <td>-0.162472</td>\n",
       "    </tr>\n",
       "    <tr>\n",
       "      <th>attend</th>\n",
       "      <td>0.027093</td>\n",
       "      <td>1.000000</td>\n",
       "      <td>0.098951</td>\n",
       "      <td>-0.055002</td>\n",
       "      <td>0.133269</td>\n",
       "      <td>0.002094</td>\n",
       "      <td>0.581895</td>\n",
       "      <td>0.448887</td>\n",
       "      <td>-0.048948</td>\n",
       "      <td>-0.307198</td>\n",
       "      <td>0.107788</td>\n",
       "      <td>0.065153</td>\n",
       "      <td>-0.019679</td>\n",
       "      <td>0.355316</td>\n",
       "      <td>-0.174723</td>\n",
       "    </tr>\n",
       "    <tr>\n",
       "      <th>temp</th>\n",
       "      <td>-0.127612</td>\n",
       "      <td>0.098951</td>\n",
       "      <td>1.000000</td>\n",
       "      <td>0.064521</td>\n",
       "      <td>0.004394</td>\n",
       "      <td>-0.189899</td>\n",
       "      <td>0.049573</td>\n",
       "      <td>-0.091069</td>\n",
       "      <td>-0.182804</td>\n",
       "      <td>-0.015883</td>\n",
       "      <td>-0.024113</td>\n",
       "      <td>0.264787</td>\n",
       "      <td>-0.023216</td>\n",
       "      <td>-0.020044</td>\n",
       "      <td>-0.007474</td>\n",
       "    </tr>\n",
       "    <tr>\n",
       "      <th>cap</th>\n",
       "      <td>-0.202274</td>\n",
       "      <td>-0.055002</td>\n",
       "      <td>0.064521</td>\n",
       "      <td>1.000000</td>\n",
       "      <td>-0.031204</td>\n",
       "      <td>-0.072732</td>\n",
       "      <td>-0.063074</td>\n",
       "      <td>0.207456</td>\n",
       "      <td>-0.069569</td>\n",
       "      <td>-0.066354</td>\n",
       "      <td>-0.069569</td>\n",
       "      <td>0.147166</td>\n",
       "      <td>-0.040811</td>\n",
       "      <td>0.147166</td>\n",
       "      <td>-0.066354</td>\n",
       "    </tr>\n",
       "    <tr>\n",
       "      <th>shirt</th>\n",
       "      <td>-0.030182</td>\n",
       "      <td>0.133269</td>\n",
       "      <td>0.004394</td>\n",
       "      <td>-0.031204</td>\n",
       "      <td>1.000000</td>\n",
       "      <td>-0.089648</td>\n",
       "      <td>-0.077743</td>\n",
       "      <td>0.255704</td>\n",
       "      <td>-0.085749</td>\n",
       "      <td>0.102233</td>\n",
       "      <td>-0.085749</td>\n",
       "      <td>0.092345</td>\n",
       "      <td>-0.050303</td>\n",
       "      <td>0.092345</td>\n",
       "      <td>-0.081786</td>\n",
       "    </tr>\n",
       "    <tr>\n",
       "      <th>fireworks</th>\n",
       "      <td>0.099528</td>\n",
       "      <td>0.002094</td>\n",
       "      <td>-0.189899</td>\n",
       "      <td>-0.072732</td>\n",
       "      <td>-0.089648</td>\n",
       "      <td>1.000000</td>\n",
       "      <td>-0.181207</td>\n",
       "      <td>0.596007</td>\n",
       "      <td>0.956512</td>\n",
       "      <td>-0.190631</td>\n",
       "      <td>-0.199868</td>\n",
       "      <td>-0.199868</td>\n",
       "      <td>-0.117248</td>\n",
       "      <td>-0.199868</td>\n",
       "      <td>-0.098719</td>\n",
       "    </tr>\n",
       "    <tr>\n",
       "      <th>bobblehead</th>\n",
       "      <td>0.145363</td>\n",
       "      <td>0.581895</td>\n",
       "      <td>0.049573</td>\n",
       "      <td>-0.063074</td>\n",
       "      <td>-0.077743</td>\n",
       "      <td>-0.181207</td>\n",
       "      <td>1.000000</td>\n",
       "      <td>0.516859</td>\n",
       "      <td>-0.173326</td>\n",
       "      <td>-0.165315</td>\n",
       "      <td>0.023029</td>\n",
       "      <td>-0.075148</td>\n",
       "      <td>0.197809</td>\n",
       "      <td>0.415741</td>\n",
       "      <td>-0.165315</td>\n",
       "    </tr>\n",
       "    <tr>\n",
       "      <th>promotions</th>\n",
       "      <td>0.104247</td>\n",
       "      <td>0.448887</td>\n",
       "      <td>-0.091069</td>\n",
       "      <td>0.207456</td>\n",
       "      <td>0.255704</td>\n",
       "      <td>0.596007</td>\n",
       "      <td>0.516859</td>\n",
       "      <td>1.000000</td>\n",
       "      <td>0.570088</td>\n",
       "      <td>-0.247881</td>\n",
       "      <td>-0.196048</td>\n",
       "      <td>-0.126400</td>\n",
       "      <td>0.015738</td>\n",
       "      <td>0.221844</td>\n",
       "      <td>-0.247881</td>\n",
       "    </tr>\n",
       "    <tr>\n",
       "      <th>Friday</th>\n",
       "      <td>0.145280</td>\n",
       "      <td>-0.048948</td>\n",
       "      <td>-0.182804</td>\n",
       "      <td>-0.069569</td>\n",
       "      <td>-0.085749</td>\n",
       "      <td>0.956512</td>\n",
       "      <td>-0.173326</td>\n",
       "      <td>0.570088</td>\n",
       "      <td>1.000000</td>\n",
       "      <td>-0.182341</td>\n",
       "      <td>-0.191176</td>\n",
       "      <td>-0.191176</td>\n",
       "      <td>-0.112149</td>\n",
       "      <td>-0.191176</td>\n",
       "      <td>-0.182341</td>\n",
       "    </tr>\n",
       "    <tr>\n",
       "      <th>Monday</th>\n",
       "      <td>-0.118786</td>\n",
       "      <td>-0.307198</td>\n",
       "      <td>-0.015883</td>\n",
       "      <td>-0.066354</td>\n",
       "      <td>0.102233</td>\n",
       "      <td>-0.190631</td>\n",
       "      <td>-0.165315</td>\n",
       "      <td>-0.247881</td>\n",
       "      <td>-0.182341</td>\n",
       "      <td>1.000000</td>\n",
       "      <td>-0.182341</td>\n",
       "      <td>-0.182341</td>\n",
       "      <td>-0.106966</td>\n",
       "      <td>-0.182341</td>\n",
       "      <td>-0.173913</td>\n",
       "    </tr>\n",
       "    <tr>\n",
       "      <th>Saturday</th>\n",
       "      <td>0.081861</td>\n",
       "      <td>0.107788</td>\n",
       "      <td>-0.024113</td>\n",
       "      <td>-0.069569</td>\n",
       "      <td>-0.085749</td>\n",
       "      <td>-0.199868</td>\n",
       "      <td>0.023029</td>\n",
       "      <td>-0.196048</td>\n",
       "      <td>-0.191176</td>\n",
       "      <td>-0.182341</td>\n",
       "      <td>1.000000</td>\n",
       "      <td>-0.191176</td>\n",
       "      <td>-0.112149</td>\n",
       "      <td>-0.191176</td>\n",
       "      <td>-0.182341</td>\n",
       "    </tr>\n",
       "    <tr>\n",
       "      <th>Sunday</th>\n",
       "      <td>0.021966</td>\n",
       "      <td>0.065153</td>\n",
       "      <td>0.264787</td>\n",
       "      <td>0.147166</td>\n",
       "      <td>0.092345</td>\n",
       "      <td>-0.199868</td>\n",
       "      <td>-0.075148</td>\n",
       "      <td>-0.126400</td>\n",
       "      <td>-0.191176</td>\n",
       "      <td>-0.182341</td>\n",
       "      <td>-0.191176</td>\n",
       "      <td>1.000000</td>\n",
       "      <td>-0.112149</td>\n",
       "      <td>-0.191176</td>\n",
       "      <td>-0.182341</td>\n",
       "    </tr>\n",
       "    <tr>\n",
       "      <th>Thursday</th>\n",
       "      <td>0.179059</td>\n",
       "      <td>-0.019679</td>\n",
       "      <td>-0.023216</td>\n",
       "      <td>-0.040811</td>\n",
       "      <td>-0.050303</td>\n",
       "      <td>-0.117248</td>\n",
       "      <td>0.197809</td>\n",
       "      <td>0.015738</td>\n",
       "      <td>-0.112149</td>\n",
       "      <td>-0.106966</td>\n",
       "      <td>-0.112149</td>\n",
       "      <td>-0.112149</td>\n",
       "      <td>1.000000</td>\n",
       "      <td>-0.112149</td>\n",
       "      <td>-0.106966</td>\n",
       "    </tr>\n",
       "    <tr>\n",
       "      <th>Tuesday</th>\n",
       "      <td>-0.094301</td>\n",
       "      <td>0.355316</td>\n",
       "      <td>-0.020044</td>\n",
       "      <td>0.147166</td>\n",
       "      <td>0.092345</td>\n",
       "      <td>-0.199868</td>\n",
       "      <td>0.415741</td>\n",
       "      <td>0.221844</td>\n",
       "      <td>-0.191176</td>\n",
       "      <td>-0.182341</td>\n",
       "      <td>-0.191176</td>\n",
       "      <td>-0.191176</td>\n",
       "      <td>-0.112149</td>\n",
       "      <td>1.000000</td>\n",
       "      <td>-0.182341</td>\n",
       "    </tr>\n",
       "    <tr>\n",
       "      <th>Wednesday</th>\n",
       "      <td>-0.162472</td>\n",
       "      <td>-0.174723</td>\n",
       "      <td>-0.007474</td>\n",
       "      <td>-0.066354</td>\n",
       "      <td>-0.081786</td>\n",
       "      <td>-0.098719</td>\n",
       "      <td>-0.165315</td>\n",
       "      <td>-0.247881</td>\n",
       "      <td>-0.182341</td>\n",
       "      <td>-0.173913</td>\n",
       "      <td>-0.182341</td>\n",
       "      <td>-0.182341</td>\n",
       "      <td>-0.106966</td>\n",
       "      <td>-0.182341</td>\n",
       "      <td>1.000000</td>\n",
       "    </tr>\n",
       "  </tbody>\n",
       "</table>\n",
       "</div>"
      ],
      "text/plain": [
       "                 day    attend      temp       cap     shirt  fireworks  \\\n",
       "day         1.000000  0.027093 -0.127612 -0.202274 -0.030182   0.099528   \n",
       "attend      0.027093  1.000000  0.098951 -0.055002  0.133269   0.002094   \n",
       "temp       -0.127612  0.098951  1.000000  0.064521  0.004394  -0.189899   \n",
       "cap        -0.202274 -0.055002  0.064521  1.000000 -0.031204  -0.072732   \n",
       "shirt      -0.030182  0.133269  0.004394 -0.031204  1.000000  -0.089648   \n",
       "fireworks   0.099528  0.002094 -0.189899 -0.072732 -0.089648   1.000000   \n",
       "bobblehead  0.145363  0.581895  0.049573 -0.063074 -0.077743  -0.181207   \n",
       "promotions  0.104247  0.448887 -0.091069  0.207456  0.255704   0.596007   \n",
       "Friday      0.145280 -0.048948 -0.182804 -0.069569 -0.085749   0.956512   \n",
       "Monday     -0.118786 -0.307198 -0.015883 -0.066354  0.102233  -0.190631   \n",
       "Saturday    0.081861  0.107788 -0.024113 -0.069569 -0.085749  -0.199868   \n",
       "Sunday      0.021966  0.065153  0.264787  0.147166  0.092345  -0.199868   \n",
       "Thursday    0.179059 -0.019679 -0.023216 -0.040811 -0.050303  -0.117248   \n",
       "Tuesday    -0.094301  0.355316 -0.020044  0.147166  0.092345  -0.199868   \n",
       "Wednesday  -0.162472 -0.174723 -0.007474 -0.066354 -0.081786  -0.098719   \n",
       "\n",
       "            bobblehead  promotions    Friday    Monday  Saturday    Sunday  \\\n",
       "day           0.145363    0.104247  0.145280 -0.118786  0.081861  0.021966   \n",
       "attend        0.581895    0.448887 -0.048948 -0.307198  0.107788  0.065153   \n",
       "temp          0.049573   -0.091069 -0.182804 -0.015883 -0.024113  0.264787   \n",
       "cap          -0.063074    0.207456 -0.069569 -0.066354 -0.069569  0.147166   \n",
       "shirt        -0.077743    0.255704 -0.085749  0.102233 -0.085749  0.092345   \n",
       "fireworks    -0.181207    0.596007  0.956512 -0.190631 -0.199868 -0.199868   \n",
       "bobblehead    1.000000    0.516859 -0.173326 -0.165315  0.023029 -0.075148   \n",
       "promotions    0.516859    1.000000  0.570088 -0.247881 -0.196048 -0.126400   \n",
       "Friday       -0.173326    0.570088  1.000000 -0.182341 -0.191176 -0.191176   \n",
       "Monday       -0.165315   -0.247881 -0.182341  1.000000 -0.182341 -0.182341   \n",
       "Saturday      0.023029   -0.196048 -0.191176 -0.182341  1.000000 -0.191176   \n",
       "Sunday       -0.075148   -0.126400 -0.191176 -0.182341 -0.191176  1.000000   \n",
       "Thursday      0.197809    0.015738 -0.112149 -0.106966 -0.112149 -0.112149   \n",
       "Tuesday       0.415741    0.221844 -0.191176 -0.182341 -0.191176 -0.191176   \n",
       "Wednesday    -0.165315   -0.247881 -0.182341 -0.173913 -0.182341 -0.182341   \n",
       "\n",
       "            Thursday   Tuesday  Wednesday  \n",
       "day         0.179059 -0.094301  -0.162472  \n",
       "attend     -0.019679  0.355316  -0.174723  \n",
       "temp       -0.023216 -0.020044  -0.007474  \n",
       "cap        -0.040811  0.147166  -0.066354  \n",
       "shirt      -0.050303  0.092345  -0.081786  \n",
       "fireworks  -0.117248 -0.199868  -0.098719  \n",
       "bobblehead  0.197809  0.415741  -0.165315  \n",
       "promotions  0.015738  0.221844  -0.247881  \n",
       "Friday     -0.112149 -0.191176  -0.182341  \n",
       "Monday     -0.106966 -0.182341  -0.173913  \n",
       "Saturday   -0.112149 -0.191176  -0.182341  \n",
       "Sunday     -0.112149 -0.191176  -0.182341  \n",
       "Thursday    1.000000 -0.112149  -0.106966  \n",
       "Tuesday    -0.112149  1.000000  -0.182341  \n",
       "Wednesday  -0.106966 -0.182341   1.000000  "
      ]
     },
     "execution_count": 35,
     "metadata": {},
     "output_type": "execute_result"
    }
   ],
   "source": [
    "data.corr()"
   ]
  },
  {
   "cell_type": "markdown",
   "metadata": {},
   "source": [
    "From this correlation matrix, the largest positive correlation for day of week and attendence was Tuesday with 0.355."
   ]
  },
  {
   "cell_type": "code",
   "execution_count": 36,
   "metadata": {},
   "outputs": [
    {
     "name": "stderr",
     "output_type": "stream",
     "text": [
      "C:\\Users\\ssear\\AppData\\Roaming\\Python\\Python37\\site-packages\\numpy\\core\\_asarray.py:83: VisibleDeprecationWarning: Creating an ndarray from ragged nested sequences (which is a list-or-tuple of lists-or-tuples-or ndarrays with different lengths or shapes) is deprecated. If you meant to do this, you must specify 'dtype=object' when creating the ndarray\n",
      "  return array(a, dtype, copy=False, order=order)\n"
     ]
    },
    {
     "data": {
      "text/plain": [
       "<matplotlib.axes._subplots.AxesSubplot at 0x1a8bee7b6c8>"
      ]
     },
     "execution_count": 36,
     "metadata": {},
     "output_type": "execute_result"
    },
    {
     "data": {
      "image/png": "[encoded data removed]",
      "text/plain": [
       "<Figure size 432x288 with 1 Axes>"
      ]
     },
     "metadata": {
      "needs_background": "light"
     },
     "output_type": "display_data"
    }
   ],
   "source": [
    "data.boxplot(column=['attend'], by='Tuesday')"
   ]
  },
  {
   "cell_type": "markdown",
   "metadata": {},
   "source": [
    "Similar to box plots above, this can help to visualize how there could be a positive linear relationship between whether or not the day was Tuesday and the attendence."
   ]
  },
  {
   "cell_type": "markdown",
   "metadata": {},
   "source": [
    "# Final Thoughts Prior to Modeling  \n",
    "\n",
    "I can see that Tuesdays and Bobblehead promotions have the most association with higher attendence. However, if we are wanting to increase attendence using a promotion, it might not make sense to have the promotion on Tuesday because the effect wouldn't be as great. If we are wanting to manufacture more attendence using a promotion, Thursday seems to do that the most. However, this is just from comparing 2 games where there was a promotion to 3 games where there wasn't a promotion on Thursday."
   ]
  },
  {
   "cell_type": "markdown",
   "metadata": {},
   "source": [
    "# Export"
   ]
  },
  {
   "cell_type": "code",
   "execution_count": 38,
   "metadata": {},
   "outputs": [],
   "source": [
    "data.to_csv('dodgers_data_for_modeling.csv', index=False)"
   ]
  },
  {
   "cell_type": "code",
   "execution_count": null,
   "metadata": {},
   "outputs": [],
   "source": []
  }
 ],
 "metadata": {
  "kernelspec": {
   "display_name": "Python 3",
   "language": "python",
   "name": "python3"
  },
  "language_info": {
   "codemirror_mode": {
    "name": "ipython",
    "version": 3
   },
   "file_extension": ".py",
   "mimetype": "text/x-python",
   "name": "python",
   "nbconvert_exporter": "python",
   "pygments_lexer": "ipython3",
   "version": "3.7.6"
  }
 },
 "nbformat": 4,
 "nbformat_minor": 4
}
